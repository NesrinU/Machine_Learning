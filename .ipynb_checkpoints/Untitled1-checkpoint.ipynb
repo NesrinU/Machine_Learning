{
 "cells": [
  {
   "cell_type": "code",
   "execution_count": null,
   "id": "c85dcdfc",
   "metadata": {},
   "outputs": [],
   "source": []
  },
  {
   "cell_type": "code",
   "execution_count": null,
   "id": "e724ef1f",
   "metadata": {},
   "outputs": [],
   "source": [
    "#conda update --all"
   ]
  },
  {
   "cell_type": "code",
   "execution_count": null,
   "id": "dea25621",
   "metadata": {},
   "outputs": [],
   "source": [
    "# Temel olarak, gerçek değerler ile tahmin edilen değerler arasındaki mesafe bir sapma olarak ifade edilir.\n",
    "#In basic, the distance between real values and estimated values expresses as a bias."
   ]
  },
  {
   "cell_type": "code",
   "execution_count": null,
   "id": "58f16148",
   "metadata": {},
   "outputs": [],
   "source": [
    "# Overfitting'de model veriyi tüm detaylarıyla öğrenir, yani veriyi ezberler.\n",
    "# Bu iyi bir şey değil, çünkü bu şekilde model, \n",
    "# veri yapısını temsil eden genel bir model değil, sadece o belirli verinin özel bir modeli."
   ]
  },
  {
   "cell_type": "code",
   "execution_count": null,
   "id": "bae6798f",
   "metadata": {},
   "outputs": [],
   "source": [
    "# In underfitting, the model is not able to learn the data adequately and \n",
    "#therefore cannot represent the structure of the data sufficiently.\n",
    "\n",
    "# Eksik donanımda, model verileri yeterince öğrenemez ve bu nedenle verilerin yapısını yeterince temsil edemez."
   ]
  },
  {
   "cell_type": "code",
   "execution_count": null,
   "id": "41dabe2b",
   "metadata": {},
   "outputs": [],
   "source": [
    "#  The model's success is not that the training error is too low, \n",
    "#but this is where the training and test errors are in balance. \n",
    "#The point that a successful model should have in this balance area.\n",
    "\n",
    "# Modelin başarısı, eğitim hatasının çok düşük olması değil, \n",
    "# eğitim ve test hatalarının dengede olduğu yer burasıdır. \n",
    "# Başarılı bir modelin bu denge alanında olması gereken nokta."
   ]
  },
  {
   "cell_type": "code",
   "execution_count": null,
   "id": "4429a8e4",
   "metadata": {},
   "outputs": [],
   "source": [
    "#Polinom Regresyon, bağımlı ve bağımsız değişkenler arasındaki bağlantının en iyi tahminini verir."
   ]
  },
  {
   "cell_type": "markdown",
   "id": "d3bb8a14",
   "metadata": {},
   "source": [
    "Polinom modelleri, bağımlı ve bağımsız değişkenler arasındaki ilişkinin eğrisel olduğu durumlarda kullanılabilir."
   ]
  },
  {
   "cell_type": "code",
   "execution_count": null,
   "id": "37294784",
   "metadata": {},
   "outputs": [],
   "source": []
  },
  {
   "cell_type": "code",
   "execution_count": null,
   "id": "c540bc6a",
   "metadata": {},
   "outputs": [],
   "source": []
  }
 ],
 "metadata": {
  "kernelspec": {
   "display_name": "Python 3 (ipykernel)",
   "language": "python",
   "name": "python3"
  },
  "language_info": {
   "codemirror_mode": {
    "name": "ipython",
    "version": 3
   },
   "file_extension": ".py",
   "mimetype": "text/x-python",
   "name": "python",
   "nbconvert_exporter": "python",
   "pygments_lexer": "ipython3",
   "version": "3.9.7"
  }
 },
 "nbformat": 4,
 "nbformat_minor": 5
}
